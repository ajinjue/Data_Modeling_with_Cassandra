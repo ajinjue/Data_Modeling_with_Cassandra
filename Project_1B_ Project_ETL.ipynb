{
 "cells": [
  {
   "cell_type": "markdown",
   "metadata": {},
   "source": [
    "# Part I. ETL Pipeline for Pre-Processing the Files"
   ]
  },
  {
   "cell_type": "markdown",
   "metadata": {},
   "source": [
    "#### Import Python packages "
   ]
  },
  {
   "cell_type": "code",
   "execution_count": 1,
   "metadata": {},
   "outputs": [],
   "source": [
    "# Import Python packages \n",
    "import pandas as pd\n",
    "import cassandra\n",
    "import re\n",
    "import os\n",
    "import glob\n",
    "import numpy as np\n",
    "import json\n",
    "import csv\n",
    "from prettytable import PrettyTable"
   ]
  },
  {
   "cell_type": "markdown",
   "metadata": {},
   "source": [
    "#### Creating list of filepaths to process original event csv data files"
   ]
  },
  {
   "cell_type": "code",
   "execution_count": 2,
   "metadata": {},
   "outputs": [
    {
     "name": "stdout",
     "output_type": "stream",
     "text": [
      "/workspace/home\n"
     ]
    }
   ],
   "source": [
    "# checking your current working directory\n",
    "print(os.getcwd())\n",
    "\n",
    "# Get your current folder and subfolder event data\n",
    "filepath = os.getcwd() + '/event_data'\n",
    "\n",
    "# Create a for loop to create a list of files and collect each filepath\n",
    "for root, dirs, files in os.walk(filepath):\n",
    "    \n",
    "# join the file path and roots with the subdirectories using glob\n",
    "    file_path_list = glob.glob(os.path.join(root,'*'))\n",
    "    #print(file_path_list)"
   ]
  },
  {
   "cell_type": "markdown",
   "metadata": {},
   "source": [
    "#### Processing the files to create the data file csv that will be used for Apache Casssandra tables"
   ]
  },
  {
   "cell_type": "code",
   "execution_count": 3,
   "metadata": {},
   "outputs": [
    {
     "name": "stdout",
     "output_type": "stream",
     "text": [
      "The total number of rows in the csvreader is 8056\n"
     ]
    }
   ],
   "source": [
    "# initiating an empty list of rows that will be generated from each file\n",
    "full_data_rows_list = [] \n",
    "    \n",
    "# for every filepath in the file path list \n",
    "for f in file_path_list:\n",
    "\n",
    "# reading csv file \n",
    "    with open(f, 'r', encoding = 'utf8', newline='') as csvfile: \n",
    "        # creating a csv reader object \n",
    "        csvreader = csv.reader(csvfile) \n",
    "        next(csvreader)\n",
    "        \n",
    " # extracting each data row one by one and append it        \n",
    "        for line in csvreader:\n",
    "            #print(line)\n",
    "            full_data_rows_list.append(line) \n",
    "            \n",
    "# total number of rows in the csvreader \n",
    "print(\"The total number of rows in the csvreader is\", len(full_data_rows_list))\n",
    "# uncomment the code below if you would like to check to see what the list of event data rows will look like\n",
    "#print(full_data_rows_list)\n",
    "\n",
    "# creating a smaller event data csv file called event_datafile_full csv that will be used to insert data into the \\\n",
    "# Apache Cassandra tables\n",
    "csv.register_dialect('myDialect', quoting=csv.QUOTE_ALL, skipinitialspace=True)\n",
    "\n",
    "with open('event_datafile_new.csv', 'w', encoding = 'utf8', newline='') as f:\n",
    "    writer = csv.writer(f, dialect='myDialect')\n",
    "    writer.writerow(['artist','firstName','gender','itemInSession','lastName','length',\\\n",
    "                'level','location','sessionId','song','userId'])\n",
    "    for row in full_data_rows_list:\n",
    "        if (row[0] == ''):\n",
    "            continue\n",
    "        writer.writerow((row[0], row[2], row[3], row[4], row[5], row[6], row[7], row[8], row[12], row[13], row[16]))\n"
   ]
  },
  {
   "cell_type": "code",
   "execution_count": 4,
   "metadata": {},
   "outputs": [
    {
     "name": "stdout",
     "output_type": "stream",
     "text": [
      "Total number of rows after rows without artist name were removed is 6821\n"
     ]
    }
   ],
   "source": [
    "# check the number of rows in your csv file\n",
    "with open('event_datafile_new.csv', 'r', encoding = 'utf8') as f:\n",
    "    print(\"Total number of rows after rows without artist name were removed is\", sum(1 for line in f))"
   ]
  },
  {
   "cell_type": "markdown",
   "metadata": {},
   "source": [
    "# Part II. Apache Cassandra coding portion of my project. \n",
    "\n",
    "## Now we are ready to work with the CSV file titled <font color=red>event_datafile_new.csv</font>, located within the Workspace directory.  The event_datafile_new.csv contains the following columns: \n",
    "- artist \n",
    "- firstName of user\n",
    "- gender of user\n",
    "- item number in session\n",
    "- last name of user\n",
    "- length of the song\n",
    "- level (paid or free song)\n",
    "- location of the user\n",
    "- sessionId\n",
    "- song title\n",
    "- userId\n",
    "\n",
    "The image below is a screenshot of what the denormalized data should appear like in the <font color=red>**event_datafile_new.csv**</font> after the code above is run:<br>\n",
    "\n",
    "<img src=\"images/image_event_datafile_new.jpg\">"
   ]
  },
  {
   "cell_type": "markdown",
   "metadata": {},
   "source": [
    "#### Creating a Cluster"
   ]
  },
  {
   "cell_type": "code",
   "execution_count": 5,
   "metadata": {},
   "outputs": [],
   "source": [
    "# Connect to the cassandra instance on the local machine (127.0.0.1)\n",
    "\n",
    "from cassandra.cluster import Cluster\n",
    "cluster = Cluster()\n",
    "\n",
    "# To establish connection and begin executing queries, we need a session\n",
    "session = cluster.connect()"
   ]
  },
  {
   "cell_type": "markdown",
   "metadata": {},
   "source": [
    "#### Creating Keyspace"
   ]
  },
  {
   "cell_type": "code",
   "execution_count": 6,
   "metadata": {},
   "outputs": [],
   "source": [
    "# Create a Keyspace \n",
    "try:\n",
    "    session.execute(\" \\\n",
    "        CREATE KEYSPACE IF NOT EXISTS udacity_ks \\\n",
    "            WITH REPLICATION = {'class':'SimpleStrategy', 'replication_factor':1}\")\n",
    "except Exception as e:\n",
    "    print(\"Error: creating Keysapce\")\n",
    "    print(e)"
   ]
  },
  {
   "cell_type": "markdown",
   "metadata": {},
   "source": [
    "#### Set Keyspace"
   ]
  },
  {
   "cell_type": "code",
   "execution_count": 7,
   "metadata": {},
   "outputs": [],
   "source": [
    "# Set KEYSPACE to the keyspace specified above\n",
    "try:\n",
    "    session.set_keyspace('udacity_ks')\n",
    "except Exception as e:\n",
    "    print(\"Error: Setting Keyspace\")\n",
    "    print(e)\n",
    "\n"
   ]
  },
  {
   "cell_type": "markdown",
   "metadata": {},
   "source": [
    "### Now we need to create tables to run the following queries. Remember, with Apache Cassandra we model the database tables on the queries you want to run."
   ]
  },
  {
   "cell_type": "markdown",
   "metadata": {},
   "source": [
    "## My queries will be created to ask the following three questions of the data\n",
    "\n",
    "### 1. Give me the artist, song title and song's length in the music app history that was heard during  sessionId = 338, and itemInSession  = 4\n",
    "\n",
    "\n",
    "### 2. Give me only the following: name of artist, song (sorted by itemInSession) and user (first and last name) for userid = 10, sessionid = 182\n",
    "    \n",
    "\n",
    "### 3. Give me every user name (first and last) in my music app history who listened to the song 'All Hands Against His Own'\n",
    "\n",
    "\n"
   ]
  },
  {
   "cell_type": "code",
   "execution_count": 8,
   "metadata": {},
   "outputs": [],
   "source": [
    "# Query 1:  Give me the artist, song title and song's length in the music app history that was heard during \\\n",
    "# sessionId = 338, and itemInSession = 4. This query will be using a WHERE at sessionId = 338 AND itemInSession = 4, \\\n",
    "# which will constitute the composite PARTITION KEY and PRIMARY KEY for this query because a music session can only be \\\n",
    "# at a particular item per time. \n",
    "\n",
    "query1 = \"CREATE TABLE IF NOT EXISTS song_playlist_session \"\n",
    "query1 = query1 + \"(sessionId int, itemInSession int, artist text, song text, length float, \\\n",
    "            PRIMARY KEY ((sessionId, itemInSession)))\" \n",
    "try:\n",
    "    session.execute(query1)\n",
    "except Exception as e:\n",
    "    print(\"Error: Creating table\")\n",
    "    print(e)         "
   ]
  },
  {
   "cell_type": "code",
   "execution_count": 9,
   "metadata": {
    "scrolled": false
   },
   "outputs": [],
   "source": [
    "# set up the CSV file to extract data for query1. \n",
    "file = 'event_datafile_new.csv'\n",
    "\n",
    "with open(file, encoding = 'utf8') as f:\n",
    "    csvreader = csv.reader(f)\n",
    "    next(csvreader) # skip header\n",
    "    for line in csvreader:\n",
    "        # Insert data into the table\n",
    "        try:\n",
    "            query1 = \"INSERT INTO song_playlist_session (sessionId, itemInSession, artist, song, length) \"\n",
    "            query1 = query1 + \" VALUES (%s, %s, %s, %s, %s)\"\n",
    "            session.execute(query1, (int(line[8]), int(line[3]), line[0], line[9], float(line[5])))\n",
    "        except Exception as e:\n",
    "            print(\"Error: Inserting data\")\n",
    "            print(e)"
   ]
  },
  {
   "cell_type": "markdown",
   "metadata": {},
   "source": [
    "####  SELECT to verify that the data have been inserted into the table"
   ]
  },
  {
   "cell_type": "code",
   "execution_count": 14,
   "metadata": {
    "scrolled": true
   },
   "outputs": [
    {
     "name": "stdout",
     "output_type": "stream",
     "text": [
      "+-----------+---------------------------------+--------------------+\n",
      "|   Artist  |               Song              |       Length       |\n",
      "+-----------+---------------------------------+--------------------+\n",
      "| Faithless | Music Matters (Mark Knight Dub) | 495.30731201171875 |\n",
      "+-----------+---------------------------------+--------------------+\n"
     ]
    }
   ],
   "source": [
    "# validate the model for query1\n",
    "query1 = \"SELECT artist, song, length FROM song_playlist_session \\\n",
    "                WHERE sessionId = 338 AND itemInSession = 4\"\n",
    "try:\n",
    "    rows = session.execute(query1)\n",
    "except Exception as e: \n",
    "    print(\"Error: Validating query 1\")\n",
    "    print(e)\n",
    "    \n",
    "# data in tabular form\n",
    "t1 = PrettyTable([\"Artist\", \"Song\", \"Length\"])\n",
    "for row in rows:\n",
    "    t1.add_row([row.artist, row.song, row.length])\n",
    "print(t1)"
   ]
  },
  {
   "cell_type": "code",
   "execution_count": 31,
   "metadata": {},
   "outputs": [],
   "source": [
    "# Query 2: Give me only the following: name of artist, song (sorted by itemInSession) and \\\n",
    "# user (first and last name) for userid = 10, sessionid = 182. This query will use the WHERE clause \\\n",
    "# at userId = 10 AND sessionId = 182. These two columns shall be the composite PARTITION KEY for \\\n",
    "# the query. Since the song column shall be sorted by itemInSession, itemInSession column shall \\\n",
    "# be the Clustering column for this query\n",
    "\n",
    "query2 = \"CREATE TABLE IF NOT EXISTS user_playlist_session \"\n",
    "query2 = query2 + \"(userId int, sessionId int, song text, itemInSession int, artist text, firstName text, \\\n",
    "            lastName text, PRIMARY KEY ((userId, sessionId), itemInSession)) \\\n",
    "            WITH CLUSTERING ORDER BY (itemInSession ASC)\" \n",
    "try:\n",
    "    session.execute(query2)\n",
    "except Exception as e:\n",
    "    print(\"Error: Creating table\")\n",
    "    print(e)                       "
   ]
  },
  {
   "cell_type": "code",
   "execution_count": 32,
   "metadata": {},
   "outputs": [],
   "source": [
    "# set up the CSV file to extract data for query2. \n",
    "file = 'event_datafile_new.csv'\n",
    "\n",
    "with open(file, encoding = 'utf8') as f:\n",
    "    csvreader = csv.reader(f)\n",
    "    next(csvreader) # skip header\n",
    "    for line in csvreader:\n",
    "        # Insert data into the table\n",
    "        try:\n",
    "            query2 = \"INSERT INTO user_playlist_session (userId, sessionId, song, itemInSession, artist, \\\n",
    "                    firstName, lastName) \"\n",
    "            query2 = query2 + \" VALUES  (%s, %s, %s, %s, %s, %s, %s)\"\n",
    "            session.execute(query2, (int(line[10]), int(line[8]), line[9], int(line[3]), line[0], \\\n",
    "                                    line[1], line[4]))\n",
    "        except Exception as e:\n",
    "            print(\"Error: Inserting data\")\n",
    "            print(e)"
   ]
  },
  {
   "cell_type": "code",
   "execution_count": 33,
   "metadata": {},
   "outputs": [
    {
     "name": "stdout",
     "output_type": "stream",
     "text": [
      "+-------------------+------------------------------------------------------+-----------+----------+\n",
      "|       Artist      |                         Song                         | FirstName | LastName |\n",
      "+-------------------+------------------------------------------------------+-----------+----------+\n",
      "| Sebastien Tellier |                      Kilometer                       |   Sylvie  |   Cruz   |\n",
      "|  Down To The Bone |                  Keep On Keepin' On                  |   Sylvie  |   Cruz   |\n",
      "|    Three Drives   |                     Greece 2000                      |   Sylvie  |   Cruz   |\n",
      "|   Lonnie Gordon   | Catch You Baby (Steve Pitron & Max Sanna Radio Edit) |   Sylvie  |   Cruz   |\n",
      "+-------------------+------------------------------------------------------+-----------+----------+\n"
     ]
    }
   ],
   "source": [
    "# validate the model for query2\n",
    "query2 = \"SELECT artist, song, firstName, lastName FROM user_playlist_session WHERE userId = 10 AND sessionId = 182\"\n",
    "try:\n",
    "    rows = session.execute(query2)\n",
    "except Exception as e: \n",
    "    print(\"Error: Validating query2\")\n",
    "    print(e)\n",
    "\n",
    "# data in tabular form\n",
    "t2 = PrettyTable([\"Artist\", \"Song\", \"FirstName\", \"LastName\"])\n",
    "for row in rows:\n",
    "    t2.add_row([row.artist, row.song, row.firstname, row.lastname])\n",
    "\n",
    "print(t2)"
   ]
  },
  {
   "cell_type": "code",
   "execution_count": 34,
   "metadata": {},
   "outputs": [],
   "source": [
    "# Query 3: Give me every user name (first and last) in my music app history who listened to the \n",
    "# song 'All Hands Against His Own'. This query will use a WHERE clause at song = 'All Hands Against His Own'\n",
    "# The song will be the PARTITION KEY, firstName and lastName will be Clustering columns to ensure the PRIMARY KEY is unique\n",
    "\n",
    "query3 = \"CREATE TABLE IF NOT EXISTS song_users \"\n",
    "query3 = query3 + \"(song text, userId int, firstName text, lastName text, PRIMARY KEY (song, userId))\" \n",
    "try:\n",
    "    session.execute(query3)\n",
    "except Exception as e:\n",
    "    print(\"Error: Creating table\")\n",
    "    print(e)                                     "
   ]
  },
  {
   "cell_type": "code",
   "execution_count": 35,
   "metadata": {},
   "outputs": [],
   "source": [
    "# set up the CSV file to extract data for query3. \n",
    "file = 'event_datafile_new.csv'\n",
    "\n",
    "with open(file, encoding = 'utf8') as f:\n",
    "    csvreader = csv.reader(f)\n",
    "    next(csvreader) # skip header\n",
    "    for line in csvreader:\n",
    "        # Insert data into the table\n",
    "        try:\n",
    "            query3 = \"INSERT INTO song_users (song, userId, firstName, lastName) VALUES (%s, %s, %s, %s)\"\n",
    "            session.execute(query3, (line[9], int(line[10]), line[1], line[4]))\n",
    "        except Exception as e:\n",
    "            print(\"Error: Inserting data\")\n",
    "            print(e)"
   ]
  },
  {
   "cell_type": "code",
   "execution_count": 36,
   "metadata": {},
   "outputs": [
    {
     "name": "stdout",
     "output_type": "stream",
     "text": [
      "+------------+----------+\n",
      "| FirstName  | LastName |\n",
      "+------------+----------+\n",
      "| Jacqueline |  Lynch   |\n",
      "|   Tegan    |  Levine  |\n",
      "|    Sara    | Johnson  |\n",
      "+------------+----------+\n"
     ]
    }
   ],
   "source": [
    "# validate the model for query3\n",
    "query3 = \"SELECT firstName, lastname FROM song_users WHERE song = 'All Hands Against His Own'\"\n",
    "try:\n",
    "    rows = session.execute(query3)\n",
    "except Exception as e: \n",
    "    print(\"Error: Validating query3\")\n",
    "    print(e)\n",
    "    \n",
    "# data in tabular form\n",
    "t3 = PrettyTable([\"FirstName\", \"LastName\"])\n",
    "for row in rows:\n",
    "    t3.add_row([row.firstname, row.lastname])\n",
    "\n",
    "print(t3)"
   ]
  },
  {
   "cell_type": "markdown",
   "metadata": {},
   "source": [
    "### Drop the tables before closing out the sessions"
   ]
  },
  {
   "cell_type": "code",
   "execution_count": 37,
   "metadata": {},
   "outputs": [],
   "source": [
    "try:\n",
    "    session.execute(\"DROP TABLE song_playlist_session\")\n",
    "    session.execute(\"DROP TABLE user_playlist_session\")\n",
    "    session.execute(\"DROP TABLE song_users\")\n",
    "except Exception as e:\n",
    "    print(\"Error: Dropping the tables\")\n",
    "    print(e)"
   ]
  },
  {
   "cell_type": "markdown",
   "metadata": {},
   "source": [
    "### Close the session and cluster connection¶"
   ]
  },
  {
   "cell_type": "code",
   "execution_count": 38,
   "metadata": {},
   "outputs": [],
   "source": [
    "session.shutdown()\n",
    "cluster.shutdown()"
   ]
  }
 ],
 "metadata": {
  "kernelspec": {
   "display_name": "Python 3",
   "language": "python",
   "name": "python3"
  },
  "language_info": {
   "codemirror_mode": {
    "name": "ipython",
    "version": 3
   },
   "file_extension": ".py",
   "mimetype": "text/x-python",
   "name": "python",
   "nbconvert_exporter": "python",
   "pygments_lexer": "ipython3",
   "version": "3.6.3"
  }
 },
 "nbformat": 4,
 "nbformat_minor": 2
}
